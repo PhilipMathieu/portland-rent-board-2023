{
 "cells": [
  {
   "cell_type": "code",
   "execution_count": 3,
   "metadata": {},
   "outputs": [
    {
     "name": "stdout",
     "output_type": "stream",
     "text": [
      "The autoreload extension is already loaded. To reload it, use:\n",
      "  %reload_ext autoreload\n"
     ]
    }
   ],
   "source": [
    "%load_ext autoreload\n",
    "%autoreload 2\n",
    "import pandas as pd\n",
    "import geopandas as gpd\n",
    "\n",
    "# import utility functions\n",
    "import sys\n",
    "sys.path.append('../')\n",
    "from src.utils import *"
   ]
  },
  {
   "cell_type": "code",
   "execution_count": null,
   "metadata": {},
   "outputs": [],
   "source": [
    "%matplotlib inline\n",
    "import matplotlib as mpl\n",
    "mpl.rcParams['figure.dpi']= 300"
   ]
  },
  {
   "cell_type": "code",
   "execution_count": 4,
   "metadata": {},
   "outputs": [
    {
     "name": "stdout",
     "output_type": "stream",
     "text": [
      "Breakdown by Outlier Condition:\n",
      "\tOutlier Rents: 6335 (34%)\n",
      "\tOutlier Increase vs Base: 777 ( 4%)\n",
      "\tOutlier Increase vs Previous: 609 ( 3%)\n",
      "\tOverall: 6682 (36%)\n",
      "\n",
      "Breakdown by Subset:\n",
      "\t6682 outliers (36%)\n",
      "\t11890 non-outliers (64%)\n",
      "\n",
      "\n",
      "\t4142 rent increase (22%)\n",
      "\t14430 no rent increase (78%)\n",
      "\n",
      "\n",
      "\t7036 exempt (38%)\n",
      "\t11536 not exempt (62%)\n",
      "Breakdown by Outlier Condition:\n",
      "\tOutlier Rents: 5461 (30%)\n",
      "\tOutlier Increase vs Base: 608 ( 3%)\n",
      "\tOutlier Increase vs Previous: 328 ( 2%)\n",
      "\tOverall: 5905 (33%)\n",
      "\n",
      "Breakdown by Subset:\n",
      "\t5905 outliers (33%)\n",
      "\t12081 non-outliers (67%)\n",
      "\n",
      "\n",
      "\t8567 rent increase (48%)\n",
      "\t9419 no rent increase (52%)\n",
      "\n",
      "\n",
      "\t7146 exempt (40%)\n",
      "\t10840 not exempt (60%)\n"
     ]
    }
   ],
   "source": [
    "df_2022 = get_data(2022)\n",
    "df_2023 = get_data(2023)"
   ]
  },
  {
   "cell_type": "code",
   "execution_count": 5,
   "metadata": {},
   "outputs": [
    {
     "name": "stdout",
     "output_type": "stream",
     "text": [
      "2022 Registrations: 18572\n",
      "2023 Registrations: 17986\n"
     ]
    }
   ],
   "source": [
    "print(f\"2022 Registrations: {df_2022.shape[0]}\")\n",
    "print(f\"2023 Registrations: {df_2023.shape[0]}\")"
   ]
  },
  {
   "cell_type": "code",
   "execution_count": 6,
   "metadata": {},
   "outputs": [
    {
     "name": "stdout",
     "output_type": "stream",
     "text": [
      "License Numbers in both years: 3868\n",
      "Parcels in both years: 3974\n"
     ]
    }
   ],
   "source": [
    "# count number of License Numbers and Parcels present in both years\n",
    "print(f\"License Numbers in both years: {len(set(df_2022['LICENSENUMBER']) & set(df_2023['LICENSENUMBER']))}\")\n",
    "print(f\"Parcels in both years: {len(set(df_2022['PARCELNUMBER']) & set(df_2023['PARCELNUMBER']))}\")"
   ]
  }
 ],
 "metadata": {
  "kernelspec": {
   "display_name": "ds5110",
   "language": "python",
   "name": "python3"
  },
  "language_info": {
   "codemirror_mode": {
    "name": "ipython",
    "version": 3
   },
   "file_extension": ".py",
   "mimetype": "text/x-python",
   "name": "python",
   "nbconvert_exporter": "python",
   "pygments_lexer": "ipython3",
   "version": "3.10.9"
  },
  "orig_nbformat": 4
 },
 "nbformat": 4,
 "nbformat_minor": 2
}
